{
  "nbformat": 4,
  "nbformat_minor": 0,
  "metadata": {
    "colab": {
      "provenance": [],
      "authorship_tag": "ABX9TyOUx3I192R+/hq4UmRMJv35",
      "include_colab_link": true
    },
    "kernelspec": {
      "name": "python3",
      "display_name": "Python 3"
    },
    "language_info": {
      "name": "python"
    }
  },
  "cells": [
    {
      "cell_type": "markdown",
      "metadata": {
        "id": "view-in-github",
        "colab_type": "text"
      },
      "source": [
        "<a href=\"https://colab.research.google.com/github/Priya-dharshini2006/data-science-data-visualization-/blob/main/Untitled9.ipynb\" target=\"_parent\"><img src=\"https://colab.research.google.com/assets/colab-badge.svg\" alt=\"Open In Colab\"/></a>"
      ]
    },
    {
      "cell_type": "code",
      "source": [
        "import pandas as pd\n",
        "import numpy as np\n",
        "import nltk\n",
        "from nltk.sentiment.vader import SentimentIntensityAnalyzer\n",
        "from nltk.tokenize import word_tokenize, sent_tokenize\n",
        "\n",
        "nltk.download('punkt')\n",
        "nltk.download('vader_lexicon')\n",
        "\n",
        "data = {\n",
        "    'comments': [\n",
        "        \"I love this product! It's amazing.\",\n",
        "        \"This is the worst experience I've ever had.\",\n",
        "        \"I'm not sure how I feel about this.\",\n",
        "        \"Absolutely fantastic! Highly recommend it.\",\n",
        "        \"I hate waiting for customer service.\"\n",
        "    ]\n",
        "}\n",
        "\n",
        "df = pd.DataFrame(data)\n",
        "\n",
        "sid = SentimentIntensityAnalyzer()\n",
        "\n",
        "def analyze_sentiment(comment):\n",
        "    scores = sid.polarity_scores(comment)\n",
        "    return scores\n",
        "\n",
        "df['sentiment_scores'] = df['comments'].apply(analyze_sentiment)\n",
        "df['compound'] = df['sentiment_scores'].apply(lambda x: x['compound'])\n",
        "df['sentiment'] = df['compound'].apply(lambda x: 'positive' if x > 0.05 else ('negative' if x < -0.05 else 'neutral'))\n",
        "\n",
        "print(df[['comments', 'sentiment_scores', 'sentiment']])"
      ],
      "metadata": {
        "colab": {
          "base_uri": "https://localhost:8080/"
        },
        "id": "rnY_XsnYVV_8",
        "outputId": "9635b6b3-ceaf-42b6-8bd3-de15c1b2820b"
      },
      "execution_count": 5,
      "outputs": [
        {
          "output_type": "stream",
          "name": "stderr",
          "text": [
            "[nltk_data] Downloading package punkt to /root/nltk_data...\n",
            "[nltk_data]   Unzipping tokenizers/punkt.zip.\n",
            "[nltk_data] Downloading package vader_lexicon to /root/nltk_data...\n"
          ]
        },
        {
          "output_type": "stream",
          "name": "stdout",
          "text": [
            "                                      comments  \\\n",
            "0           I love this product! It's amazing.   \n",
            "1  This is the worst experience I've ever had.   \n",
            "2          I'm not sure how I feel about this.   \n",
            "3   Absolutely fantastic! Highly recommend it.   \n",
            "4         I hate waiting for customer service.   \n",
            "\n",
            "                                    sentiment_scores sentiment  \n",
            "0  {'neg': 0.0, 'neu': 0.266, 'pos': 0.734, 'comp...  positive  \n",
            "1  {'neg': 0.369, 'neu': 0.631, 'pos': 0.0, 'comp...  negative  \n",
            "2  {'neg': 0.246, 'neu': 0.754, 'pos': 0.0, 'comp...  negative  \n",
            "3  {'neg': 0.0, 'neu': 0.293, 'pos': 0.707, 'comp...  positive  \n",
            "4  {'neg': 0.481, 'neu': 0.519, 'pos': 0.0, 'comp...  negative  \n"
          ]
        }
      ]
    }
  ]
}