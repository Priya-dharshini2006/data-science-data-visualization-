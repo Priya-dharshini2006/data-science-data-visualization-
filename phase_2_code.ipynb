{
  "nbformat": 4,
  "nbformat_minor": 0,
  "metadata": {
    "colab": {
      "provenance": [],
      "authorship_tag": "ABX9TyOI1RpRPgdafawcyn7kK/bl",
      "include_colab_link": true
    },
    "kernelspec": {
      "name": "python3",
      "display_name": "Python 3"
    },
    "language_info": {
      "name": "python"
    }
  },
  "cells": [
    {
      "cell_type": "markdown",
      "metadata": {
        "id": "view-in-github",
        "colab_type": "text"
      },
      "source": [
        "<a href=\"https://colab.research.google.com/github/Priya-dharshini2006/data-science-data-visualization-/blob/main/phase_2_code.ipynb\" target=\"_parent\"><img src=\"https://colab.research.google.com/assets/colab-badge.svg\" alt=\"Open In Colab\"/></a>"
      ]
    },
    {
      "cell_type": "code",
      "source": [
        "import nltk\n",
        "from nltk.sentiment.vader import SentimentIntensityAnalyzer\n",
        "\n",
        "nltk.download('vader_lexicon')\n",
        "\n",
        "analyzer = SentimentIntensityAnalyzer()\n",
        "\n",
        "while True:\n",
        "    text = input(\"Enter a sentence with emojis (or type 'exit' to quit): \")\n",
        "    if text.lower() == 'exit':\n",
        "        break\n",
        "\n",
        "    scores = analyzer.polarity_scores(text)\n",
        "    compound = scores['compound']\n",
        "\n",
        "    if compound >= 0.05:\n",
        "        sentiment = \"Positive\"\n",
        "    elif compound <= -0.05:\n",
        "        sentiment = \"Negative\"\n",
        "    else:\n",
        "        sentiment = \"Neutral\"\n",
        "\n",
        "    print(f\"\\nYour Input: {text}\")\n",
        "    print(f\"Sentiment: {sentiment}\")\n",
        "    print(\"Score Details:\", scores)\n",
        "    print(\"-\" * 40)"
      ],
      "metadata": {
        "colab": {
          "base_uri": "https://localhost:8080/"
        },
        "id": "41jh6o7BtWiy",
        "outputId": "80d107ad-2db3-4515-ecad-d778e7055321"
      },
      "execution_count": 76,
      "outputs": [
        {
          "output_type": "stream",
          "name": "stderr",
          "text": [
            "[nltk_data] Downloading package vader_lexicon to /root/nltk_data...\n",
            "[nltk_data]   Package vader_lexicon is already up-to-date!\n"
          ]
        },
        {
          "name": "stdout",
          "output_type": "stream",
          "text": [
            "Enter a sentence with emojis (or type 'exit' to quit): 🙂happy\n",
            "\n",
            "Your Input: 🙂happy\n",
            "Sentiment: Neutral\n",
            "Score Details: {'neg': 0.0, 'neu': 1.0, 'pos': 0.0, 'compound': 0.0}\n",
            "----------------------------------------\n",
            "Enter a sentence with emojis (or type 'exit' to quit): happy\n",
            "\n",
            "Your Input: happy\n",
            "Sentiment: Positive\n",
            "Score Details: {'neg': 0.0, 'neu': 0.0, 'pos': 1.0, 'compound': 0.5719}\n",
            "----------------------------------------\n",
            "Enter a sentence with emojis (or type 'exit' to quit): 🙂sad\n",
            "\n",
            "Your Input: 🙂sad\n",
            "Sentiment: Neutral\n",
            "Score Details: {'neg': 0.0, 'neu': 1.0, 'pos': 0.0, 'compound': 0.0}\n",
            "----------------------------------------\n",
            "Enter a sentence with emojis (or type 'exit' to quit): i got good marks\n",
            "\n",
            "Your Input: i got good marks\n",
            "Sentiment: Positive\n",
            "Score Details: {'neg': 0.0, 'neu': 0.408, 'pos': 0.592, 'compound': 0.4404}\n",
            "----------------------------------------\n",
            "Enter a sentence with emojis (or type 'exit' to quit): i got poor marks \n",
            "\n",
            "Your Input: i got poor marks \n",
            "Sentiment: Negative\n",
            "Score Details: {'neg': 0.608, 'neu': 0.392, 'pos': 0.0, 'compound': -0.4767}\n",
            "----------------------------------------\n",
            "Enter a sentence with emojis (or type 'exit' to quit): my brother beats me\n",
            "\n",
            "Your Input: my brother beats me\n",
            "Sentiment: Neutral\n",
            "Score Details: {'neg': 0.0, 'neu': 1.0, 'pos': 0.0, 'compound': 0.0}\n",
            "----------------------------------------\n",
            "Enter a sentence with emojis (or type 'exit' to quit): my freind scolding me\n",
            "\n",
            "Your Input: my freind scolding me\n",
            "Sentiment: Neutral\n",
            "Score Details: {'neg': 0.0, 'neu': 1.0, 'pos': 0.0, 'compound': 0.0}\n",
            "----------------------------------------\n",
            "Enter a sentence with emojis (or type 'exit' to quit): quit\n",
            "\n",
            "Your Input: quit\n",
            "Sentiment: Neutral\n",
            "Score Details: {'neg': 0.0, 'neu': 1.0, 'pos': 0.0, 'compound': 0.0}\n",
            "----------------------------------------\n",
            "Enter a sentence with emojis (or type 'exit' to quit): exit\n"
          ]
        }
      ]
    }
  ]
}